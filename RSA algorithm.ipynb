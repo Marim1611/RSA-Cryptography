{
 "cells": [
  {
   "cell_type": "code",
   "execution_count": 1,
   "id": "221bcda5",
   "metadata": {},
   "outputs": [
    {
     "name": "stdout",
     "output_type": "stream",
     "text": [
      "@22222222\n"
     ]
    }
   ],
   "source": [
    "# Python program to check if given number is prime or not\n",
    "def isPrime(num):  \n",
    "    # If given number is greater than 1\n",
    "    if num > 1:\n",
    "\n",
    "        # Iterate from 2 to n / 2\n",
    "        for i in range(2, int(num/2)+1):\n",
    "\n",
    "            # If num is divisible by any number between\n",
    "            # 2 and n / 2, it is not prime\n",
    "            if (num % i) == 0:\n",
    "                return False\n",
    "                break\n",
    "        else:\n",
    "            return True\n",
    "\n",
    "    else:\n",
    "        return False\n",
    "print(\"@22222222\")   "
   ]
  },
  {
   "cell_type": "code",
   "execution_count": 2,
   "id": "90c0ce8d",
   "metadata": {},
   "outputs": [],
   "source": [
    "def gcd(a, b):\n",
    "    if (a == 0 or b == 0): return 0\n",
    "     \n",
    "    # base case\n",
    "    if (a == b): return a\n",
    "     \n",
    "    # a is greater\n",
    "    if (a > b):\n",
    "        return gcd(a - b, b)         \n",
    "    return gcd(a, b - a)\n",
    "\n",
    "# two numbers are co-prime or not\n",
    "def areCoprime(a, b):  \n",
    "    if (gcd(a, b) == 1):\n",
    "        return True\n",
    "    else:\n",
    "        return False"
   ]
  },
  {
   "cell_type": "code",
   "execution_count": 3,
   "id": "fac44b4b",
   "metadata": {},
   "outputs": [],
   "source": [
    "# mod equation solver\n",
    "# b= a mod n\n",
    "# def (a,n):\n",
    "#     while a%n != 0:\n",
    "#         a+=n\n",
    "#     return a    \n"
   ]
  },
  {
   "cell_type": "code",
   "execution_count": 37,
   "id": "8de6d6da",
   "metadata": {},
   "outputs": [],
   "source": [
    "#RSA Algorithm\n",
    "#Encryption\n",
    "def RSA_Encryption(p,q,e,M):\n",
    "    #check that p and q are primes\n",
    "    if not(isPrime(p) and isPrime(q)):\n",
    "        print(\"p and q must be primes\")\n",
    "        return\n",
    "    n =p*q\n",
    "    #check that phi(n) and e are co-primes\n",
    "    # if not(areCoprime(phi_n , e)):\n",
    "    #     print(\"e and phi of n are not co-prime\")\n",
    "    #     return\n",
    "    #encryption: C = M^e mod n\n",
    "    x=M**e\n",
    "    C=x %n\n",
    "    return C\n"
   ]
  },
  {
   "cell_type": "code",
   "execution_count": 45,
   "id": "e53509bc",
   "metadata": {},
   "outputs": [
    {
     "data": {
      "text/plain": [
       "14"
      ]
     },
     "execution_count": 45,
     "metadata": {},
     "output_type": "execute_result"
    }
   ],
   "source": [
    "RSA_Encryption(3,11,7,5)\n",
    "#RSA_Encryption(11,7,3,89)"
   ]
  },
  {
   "cell_type": "code",
   "execution_count": 41,
   "id": "18eac92e",
   "metadata": {},
   "outputs": [],
   "source": [
    "def RSA_Decryption(p,q,e,C):\n",
    "    #check that p and q are primes\n",
    "    if not(isPrime(p) and isPrime(q)):\n",
    "        print(\"p and q must be primes\")\n",
    "        return\n",
    "    n =p*q\n",
    "    phi_n=(p-1)*(q-1)\n",
    "    #check that phi(n) and e are co-primes\n",
    "    if not(areCoprime(phi_n , e)):\n",
    "        print(\"e and phi of n are not co-prime\")\n",
    "        return\n",
    "    # solve: d = e^-1 mod(phi(n)) => (1/e) * d = x mod(phi(n))\n",
    "    x=1 # x initially 1\n",
    "    while x % e != 0:\n",
    "        x += phi_n\n",
    "    d =   x/e\n",
    "    print(d)\n",
    "    # #decryption: M = C^d mod n\n",
    "    x=C**d\n",
    "    M = x%n\n",
    "    return M\n",
    "    "
   ]
  },
  {
   "cell_type": "code",
   "execution_count": 43,
   "id": "191088e4",
   "metadata": {},
   "outputs": [
    {
     "name": "stdout",
     "output_type": "stream",
     "text": [
      "3.0\n"
     ]
    },
    {
     "data": {
      "text/plain": [
       "5.0"
      ]
     },
     "execution_count": 43,
     "metadata": {},
     "output_type": "execute_result"
    }
   ],
   "source": [
    "RSA_Decryption(3,11,7,14)"
   ]
  },
  {
   "cell_type": "code",
   "execution_count": null,
   "id": "39d6e01c",
   "metadata": {},
   "outputs": [],
   "source": []
  }
 ],
 "metadata": {
  "interpreter": {
   "hash": "cad911e89c9cd81e6830ed7e3dceb0d7faa858acac22c42d691ca01e2d61a3cf"
  },
  "kernelspec": {
   "display_name": "Python 3.8.2 32-bit",
   "language": "python",
   "name": "python3"
  },
  "language_info": {
   "codemirror_mode": {
    "name": "ipython",
    "version": 3
   },
   "file_extension": ".py",
   "mimetype": "text/x-python",
   "name": "python",
   "nbconvert_exporter": "python",
   "pygments_lexer": "ipython3",
   "version": "3.8.2"
  }
 },
 "nbformat": 4,
 "nbformat_minor": 5
}
